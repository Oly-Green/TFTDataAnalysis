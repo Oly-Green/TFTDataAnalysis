{
 "cells": [
  {
   "cell_type": "code",
   "execution_count": 8,
   "id": "514b158c-3cbc-4fa7-a1c5-cee02198c838",
   "metadata": {},
   "outputs": [],
   "source": [
    "import pandas as pd\n",
    "import json\n",
    "from sklearn.preprocessing import MultiLabelBinarizer\n",
    "import seaborn as sns\n",
    "import matplotlib.pyplot as plt\n",
    "from tqdm import tqdm\n",
    "from sklearn.decomposition import PCA"
   ]
  },
  {
   "cell_type": "code",
   "execution_count": 2,
   "outputs": [],
   "source": [
    "with open('grandmasterData.json') as f:\n",
    "  gdData = f.read()\n",
    "gdDict = json.loads(gdData)"
   ],
   "metadata": {
    "collapsed": false,
    "pycharm": {
     "name": "#%%\n"
    }
   }
  },
  {
   "cell_type": "code",
   "execution_count": 3,
   "outputs": [
    {
     "data": {
      "text/plain": "   placement                                             traits  \\\n0          4  [Set10_Brawler, Set10_Classical, Set10_Country...   \n1          8  [Set10_Brawler, Set10_Breakout, Set10_Dazzler,...   \n2          3  [Set10_8Bit, Set10_Brawler, Set10_CrowdDive, S...   \n3          6  [Set10_CrowdDive, Set10_Edgelord, Set10_Execut...   \n4          7  [Set10_Deadeye, Set10_Guardian, Set10_Hyperpop...   \n\n                                            augments  \\\n0  [TFT9_Augment_DravenSpoilsOfWar, TFT9_Augment_...   \n1  [TFT7_Augment_AFK, TFT10_Augment_Determinedinv...   \n2  [TFT9_Augment_OneTwosThree, TFT9_Augment_Great...   \n3  [TFT9_Augment_CustomerIsAlwaysRight, TFT9_Augm...   \n4  [TFT9_Augment_SilverSpoon, TFT9_Augment_Pandor...   \n\n                                               units  \n0  [TFT10_Bard, TFT10_Aphelios, TFT10_MissFortune...  \n1  [TFT10_KSante, TFT10_Senna, TFT10_Lulu, TFT10_...  \n2  [TFT10_MissFortune, TFT10_Sett, TFT10_Zac, TFT...  \n3  [TFT10_Lillia, TFT10_Gnar, TFT10_Kayle, TFT10_...  \n4  [TFT10_Lillia, TFT10_Kennen, TFT10_Seraphine, ...  ",
      "text/html": "<div>\n<style scoped>\n    .dataframe tbody tr th:only-of-type {\n        vertical-align: middle;\n    }\n\n    .dataframe tbody tr th {\n        vertical-align: top;\n    }\n\n    .dataframe thead th {\n        text-align: right;\n    }\n</style>\n<table border=\"1\" class=\"dataframe\">\n  <thead>\n    <tr style=\"text-align: right;\">\n      <th></th>\n      <th>placement</th>\n      <th>traits</th>\n      <th>augments</th>\n      <th>units</th>\n    </tr>\n  </thead>\n  <tbody>\n    <tr>\n      <th>0</th>\n      <td>4</td>\n      <td>[Set10_Brawler, Set10_Classical, Set10_Country...</td>\n      <td>[TFT9_Augment_DravenSpoilsOfWar, TFT9_Augment_...</td>\n      <td>[TFT10_Bard, TFT10_Aphelios, TFT10_MissFortune...</td>\n    </tr>\n    <tr>\n      <th>1</th>\n      <td>8</td>\n      <td>[Set10_Brawler, Set10_Breakout, Set10_Dazzler,...</td>\n      <td>[TFT7_Augment_AFK, TFT10_Augment_Determinedinv...</td>\n      <td>[TFT10_KSante, TFT10_Senna, TFT10_Lulu, TFT10_...</td>\n    </tr>\n    <tr>\n      <th>2</th>\n      <td>3</td>\n      <td>[Set10_8Bit, Set10_Brawler, Set10_CrowdDive, S...</td>\n      <td>[TFT9_Augment_OneTwosThree, TFT9_Augment_Great...</td>\n      <td>[TFT10_MissFortune, TFT10_Sett, TFT10_Zac, TFT...</td>\n    </tr>\n    <tr>\n      <th>3</th>\n      <td>6</td>\n      <td>[Set10_CrowdDive, Set10_Edgelord, Set10_Execut...</td>\n      <td>[TFT9_Augment_CustomerIsAlwaysRight, TFT9_Augm...</td>\n      <td>[TFT10_Lillia, TFT10_Gnar, TFT10_Kayle, TFT10_...</td>\n    </tr>\n    <tr>\n      <th>4</th>\n      <td>7</td>\n      <td>[Set10_Deadeye, Set10_Guardian, Set10_Hyperpop...</td>\n      <td>[TFT9_Augment_SilverSpoon, TFT9_Augment_Pandor...</td>\n      <td>[TFT10_Lillia, TFT10_Kennen, TFT10_Seraphine, ...</td>\n    </tr>\n  </tbody>\n</table>\n</div>"
     },
     "execution_count": 3,
     "metadata": {},
     "output_type": "execute_result"
    }
   ],
   "source": [
    "placements = []\n",
    "traits = []\n",
    "augments = []\n",
    "units = []\n",
    "\n",
    "for summonerID in gdDict.keys():\n",
    "  for i in range(len(gdDict[summonerID])):\n",
    "    for puuid, dataDict in gdDict[summonerID][i].items():\n",
    "      placements.append(dataDict[\"placement\"])\n",
    "      traits.append(dataDict[\"traits\"])\n",
    "      augments.append(dataDict[\"augments\"])\n",
    "      units.append(dataDict[\"units\"])\n",
    "    # break\n",
    "  # break\n",
    "df = pd.DataFrame()\n",
    "df[\"placement\"] = placements\n",
    "df[\"traits\"] = traits\n",
    "df[\"augments\"] = augments\n",
    "df[\"units\"] = units\n",
    "\n",
    "df.head()"
   ],
   "metadata": {
    "collapsed": false,
    "pycharm": {
     "name": "#%%\n"
    }
   }
  },
  {
   "cell_type": "code",
   "execution_count": 4,
   "outputs": [
    {
     "data": {
      "text/plain": "   placement  trait_Astro  trait_Battlecast  trait_Blaster  trait_Chrono  \\\n0          4            0                 0              0             0   \n1          8            0                 0              0             0   \n2          3            0                 0              0             0   \n3          6            0                 0              0             0   \n4          7            0                 0              0             0   \n\n   trait_Cybernetic  trait_DarkStar  trait_Demolitionist  trait_Infiltrator  \\\n0                 0               0                    0                  0   \n1                 0               0                    0                  0   \n2                 0               0                    0                  0   \n3                 0               0                    0                  0   \n4                 0               0                    0                  0   \n\n   trait_ManaReaver  ...  augment_TFT9_Augment_TiniestTitan  \\\n0                 0  ...                                  0   \n1                 0  ...                                  0   \n2                 0  ...                                  0   \n3                 0  ...                                  0   \n4                 0  ...                                  0   \n\n   augment_TFT9_Augment_TiniestTitanPlus  augment_TFT9_Augment_TonsOfStats  \\\n0                                      1                                 0   \n1                                      0                                 0   \n2                                      0                                 0   \n3                                      0                                 0   \n4                                      0                                 0   \n\n   augment_TFT9_Augment_TwoHealthy  augment_TFT9_Augment_UnleashedArcana  \\\n0                                0                                     0   \n1                                0                                     0   \n2                                0                                     0   \n3                                0                                     0   \n4                                0                                     0   \n\n   augment_TFT9_Augment_WhatDoesntKillYou  augment_TFT9_Augment_WhatTheForge  \\\n0                                       0                                  0   \n1                                       0                                  0   \n2                                       0                                  0   \n3                                       0                                  0   \n4                                       0                                  0   \n\n   augment_TFT9_Augment_YouHaveMyBow  augment_TFT9_Augment_YouHaveMySword  \\\n0                                  0                                    0   \n1                                  0                                    0   \n2                                  0                                    0   \n3                                  0                                    0   \n4                                  0                                    0   \n\n   augment_TFT9_Augment_YoungAndWildAndFree  \n0                                         0  \n1                                         0  \n2                                         0  \n3                                         0  \n4                                         0  \n\n[5 rows x 502 columns]",
      "text/html": "<div>\n<style scoped>\n    .dataframe tbody tr th:only-of-type {\n        vertical-align: middle;\n    }\n\n    .dataframe tbody tr th {\n        vertical-align: top;\n    }\n\n    .dataframe thead th {\n        text-align: right;\n    }\n</style>\n<table border=\"1\" class=\"dataframe\">\n  <thead>\n    <tr style=\"text-align: right;\">\n      <th></th>\n      <th>placement</th>\n      <th>trait_Astro</th>\n      <th>trait_Battlecast</th>\n      <th>trait_Blaster</th>\n      <th>trait_Chrono</th>\n      <th>trait_Cybernetic</th>\n      <th>trait_DarkStar</th>\n      <th>trait_Demolitionist</th>\n      <th>trait_Infiltrator</th>\n      <th>trait_ManaReaver</th>\n      <th>...</th>\n      <th>augment_TFT9_Augment_TiniestTitan</th>\n      <th>augment_TFT9_Augment_TiniestTitanPlus</th>\n      <th>augment_TFT9_Augment_TonsOfStats</th>\n      <th>augment_TFT9_Augment_TwoHealthy</th>\n      <th>augment_TFT9_Augment_UnleashedArcana</th>\n      <th>augment_TFT9_Augment_WhatDoesntKillYou</th>\n      <th>augment_TFT9_Augment_WhatTheForge</th>\n      <th>augment_TFT9_Augment_YouHaveMyBow</th>\n      <th>augment_TFT9_Augment_YouHaveMySword</th>\n      <th>augment_TFT9_Augment_YoungAndWildAndFree</th>\n    </tr>\n  </thead>\n  <tbody>\n    <tr>\n      <th>0</th>\n      <td>4</td>\n      <td>0</td>\n      <td>0</td>\n      <td>0</td>\n      <td>0</td>\n      <td>0</td>\n      <td>0</td>\n      <td>0</td>\n      <td>0</td>\n      <td>0</td>\n      <td>...</td>\n      <td>0</td>\n      <td>1</td>\n      <td>0</td>\n      <td>0</td>\n      <td>0</td>\n      <td>0</td>\n      <td>0</td>\n      <td>0</td>\n      <td>0</td>\n      <td>0</td>\n    </tr>\n    <tr>\n      <th>1</th>\n      <td>8</td>\n      <td>0</td>\n      <td>0</td>\n      <td>0</td>\n      <td>0</td>\n      <td>0</td>\n      <td>0</td>\n      <td>0</td>\n      <td>0</td>\n      <td>0</td>\n      <td>...</td>\n      <td>0</td>\n      <td>0</td>\n      <td>0</td>\n      <td>0</td>\n      <td>0</td>\n      <td>0</td>\n      <td>0</td>\n      <td>0</td>\n      <td>0</td>\n      <td>0</td>\n    </tr>\n    <tr>\n      <th>2</th>\n      <td>3</td>\n      <td>0</td>\n      <td>0</td>\n      <td>0</td>\n      <td>0</td>\n      <td>0</td>\n      <td>0</td>\n      <td>0</td>\n      <td>0</td>\n      <td>0</td>\n      <td>...</td>\n      <td>0</td>\n      <td>0</td>\n      <td>0</td>\n      <td>0</td>\n      <td>0</td>\n      <td>0</td>\n      <td>0</td>\n      <td>0</td>\n      <td>0</td>\n      <td>0</td>\n    </tr>\n    <tr>\n      <th>3</th>\n      <td>6</td>\n      <td>0</td>\n      <td>0</td>\n      <td>0</td>\n      <td>0</td>\n      <td>0</td>\n      <td>0</td>\n      <td>0</td>\n      <td>0</td>\n      <td>0</td>\n      <td>...</td>\n      <td>0</td>\n      <td>0</td>\n      <td>0</td>\n      <td>0</td>\n      <td>0</td>\n      <td>0</td>\n      <td>0</td>\n      <td>0</td>\n      <td>0</td>\n      <td>0</td>\n    </tr>\n    <tr>\n      <th>4</th>\n      <td>7</td>\n      <td>0</td>\n      <td>0</td>\n      <td>0</td>\n      <td>0</td>\n      <td>0</td>\n      <td>0</td>\n      <td>0</td>\n      <td>0</td>\n      <td>0</td>\n      <td>...</td>\n      <td>0</td>\n      <td>0</td>\n      <td>0</td>\n      <td>0</td>\n      <td>0</td>\n      <td>0</td>\n      <td>0</td>\n      <td>0</td>\n      <td>0</td>\n      <td>0</td>\n    </tr>\n  </tbody>\n</table>\n<p>5 rows × 502 columns</p>\n</div>"
     },
     "execution_count": 4,
     "metadata": {},
     "output_type": "execute_result"
    }
   ],
   "source": [
    "mlb = MultiLabelBinarizer()\n",
    "df = df.join(pd.DataFrame(mlb.fit_transform(df.pop('traits')),\n",
    "                                            columns=mlb.classes_,\n",
    "                                            index=df.index).add_prefix(\"trait_\"))\n",
    "\n",
    "df = df.join(pd.DataFrame(mlb.fit_transform(df.pop('units')),\n",
    "                                            columns=mlb.classes_,\n",
    "                                            index=df.index).add_prefix(\"unit_\"))\n",
    "\n",
    "df = df.join(pd.DataFrame(mlb.fit_transform(df.pop('augments')),\n",
    "                                            columns=mlb.classes_,\n",
    "                                            index=df.index).add_prefix(\"augment_\"))\n",
    "df.head()"
   ],
   "metadata": {
    "collapsed": false,
    "pycharm": {
     "name": "#%%\n"
    }
   }
  },
  {
   "cell_type": "code",
   "execution_count": 11,
   "outputs": [],
   "source": [
    "def reduceFeatures(df, target, n_components):\n",
    "    features = list(df.columns)\n",
    "    features.remove(target)\n",
    "\n",
    "    # n_components necessary to explain 80% of the variance\n",
    "    pca = PCA(n_components=n_components)\n",
    "    components = pca.fit_transform(df[features])\n",
    "\n",
    "    PCs = []\n",
    "    colNames = []\n",
    "    for i in range(n_components):\n",
    "        PCs.append(components[:,i])\n",
    "        colNames.append(f\"PC{i+1}\")\n",
    "\n",
    "    zipped = list(zip(*PCs,\n",
    "                      df[target]))\n",
    "\n",
    "    pc_df = pd.DataFrame(zipped,\n",
    "                         columns=[*colNames,\n",
    "                                      target])\n",
    "\n",
    "    return pc_df"
   ],
   "metadata": {
    "collapsed": false,
    "pycharm": {
     "name": "#%%\n"
    }
   }
  },
  {
   "cell_type": "code",
   "execution_count": 12,
   "outputs": [
    {
     "data": {
      "text/plain": "        PC1       PC2       PC3       PC4       PC5       PC6       PC7  \\\n0  2.472877 -0.516134 -0.423691  1.090205  1.647069  0.461294  0.476847   \n1 -0.617901 -1.594665  0.718298  0.053678 -0.698367 -0.376900  0.376411   \n2  2.198565 -0.209806 -0.137471 -1.152329 -0.889903  0.451187 -0.199991   \n3 -1.219602  2.168358 -0.343408 -0.250049  0.082409 -1.092121 -0.005953   \n4 -2.155069 -1.364458  0.006958 -0.529021  0.315305  0.163541 -1.048470   \n\n        PC8       PC9      PC10  ...      PC52      PC53      PC54      PC55  \\\n0  0.901297  0.322718 -0.074304  ...  0.192748 -0.094132  0.054595  0.232655   \n1 -0.765911  1.074969  0.675096  ... -0.445461 -0.197357 -0.218318  0.056211   \n2 -0.263528 -0.187490  0.905182  ... -0.106124 -0.013921  0.112021  0.197203   \n3  0.251811  0.044836 -0.370573  ... -0.038095 -0.321158  0.070267  0.291201   \n4  0.568991 -0.675832 -0.149855  ...  0.124300 -0.291743  0.067682 -0.210613   \n\n       PC56      PC57      PC58      PC59      PC60  placement  \n0  0.049828  0.069853  0.007567  0.006897 -0.032880          4  \n1  0.146372  0.206243 -0.001379 -0.147774  0.102597          8  \n2  0.139066  0.012511 -0.039369 -0.077501  0.056628          3  \n3  0.088896 -0.043456 -0.198539  0.115954  0.062575          6  \n4 -0.206132 -0.047861 -0.243655 -0.149227  0.301789          7  \n\n[5 rows x 61 columns]",
      "text/html": "<div>\n<style scoped>\n    .dataframe tbody tr th:only-of-type {\n        vertical-align: middle;\n    }\n\n    .dataframe tbody tr th {\n        vertical-align: top;\n    }\n\n    .dataframe thead th {\n        text-align: right;\n    }\n</style>\n<table border=\"1\" class=\"dataframe\">\n  <thead>\n    <tr style=\"text-align: right;\">\n      <th></th>\n      <th>PC1</th>\n      <th>PC2</th>\n      <th>PC3</th>\n      <th>PC4</th>\n      <th>PC5</th>\n      <th>PC6</th>\n      <th>PC7</th>\n      <th>PC8</th>\n      <th>PC9</th>\n      <th>PC10</th>\n      <th>...</th>\n      <th>PC52</th>\n      <th>PC53</th>\n      <th>PC54</th>\n      <th>PC55</th>\n      <th>PC56</th>\n      <th>PC57</th>\n      <th>PC58</th>\n      <th>PC59</th>\n      <th>PC60</th>\n      <th>placement</th>\n    </tr>\n  </thead>\n  <tbody>\n    <tr>\n      <th>0</th>\n      <td>2.472877</td>\n      <td>-0.516134</td>\n      <td>-0.423691</td>\n      <td>1.090205</td>\n      <td>1.647069</td>\n      <td>0.461294</td>\n      <td>0.476847</td>\n      <td>0.901297</td>\n      <td>0.322718</td>\n      <td>-0.074304</td>\n      <td>...</td>\n      <td>0.192748</td>\n      <td>-0.094132</td>\n      <td>0.054595</td>\n      <td>0.232655</td>\n      <td>0.049828</td>\n      <td>0.069853</td>\n      <td>0.007567</td>\n      <td>0.006897</td>\n      <td>-0.032880</td>\n      <td>4</td>\n    </tr>\n    <tr>\n      <th>1</th>\n      <td>-0.617901</td>\n      <td>-1.594665</td>\n      <td>0.718298</td>\n      <td>0.053678</td>\n      <td>-0.698367</td>\n      <td>-0.376900</td>\n      <td>0.376411</td>\n      <td>-0.765911</td>\n      <td>1.074969</td>\n      <td>0.675096</td>\n      <td>...</td>\n      <td>-0.445461</td>\n      <td>-0.197357</td>\n      <td>-0.218318</td>\n      <td>0.056211</td>\n      <td>0.146372</td>\n      <td>0.206243</td>\n      <td>-0.001379</td>\n      <td>-0.147774</td>\n      <td>0.102597</td>\n      <td>8</td>\n    </tr>\n    <tr>\n      <th>2</th>\n      <td>2.198565</td>\n      <td>-0.209806</td>\n      <td>-0.137471</td>\n      <td>-1.152329</td>\n      <td>-0.889903</td>\n      <td>0.451187</td>\n      <td>-0.199991</td>\n      <td>-0.263528</td>\n      <td>-0.187490</td>\n      <td>0.905182</td>\n      <td>...</td>\n      <td>-0.106124</td>\n      <td>-0.013921</td>\n      <td>0.112021</td>\n      <td>0.197203</td>\n      <td>0.139066</td>\n      <td>0.012511</td>\n      <td>-0.039369</td>\n      <td>-0.077501</td>\n      <td>0.056628</td>\n      <td>3</td>\n    </tr>\n    <tr>\n      <th>3</th>\n      <td>-1.219602</td>\n      <td>2.168358</td>\n      <td>-0.343408</td>\n      <td>-0.250049</td>\n      <td>0.082409</td>\n      <td>-1.092121</td>\n      <td>-0.005953</td>\n      <td>0.251811</td>\n      <td>0.044836</td>\n      <td>-0.370573</td>\n      <td>...</td>\n      <td>-0.038095</td>\n      <td>-0.321158</td>\n      <td>0.070267</td>\n      <td>0.291201</td>\n      <td>0.088896</td>\n      <td>-0.043456</td>\n      <td>-0.198539</td>\n      <td>0.115954</td>\n      <td>0.062575</td>\n      <td>6</td>\n    </tr>\n    <tr>\n      <th>4</th>\n      <td>-2.155069</td>\n      <td>-1.364458</td>\n      <td>0.006958</td>\n      <td>-0.529021</td>\n      <td>0.315305</td>\n      <td>0.163541</td>\n      <td>-1.048470</td>\n      <td>0.568991</td>\n      <td>-0.675832</td>\n      <td>-0.149855</td>\n      <td>...</td>\n      <td>0.124300</td>\n      <td>-0.291743</td>\n      <td>0.067682</td>\n      <td>-0.210613</td>\n      <td>-0.206132</td>\n      <td>-0.047861</td>\n      <td>-0.243655</td>\n      <td>-0.149227</td>\n      <td>0.301789</td>\n      <td>7</td>\n    </tr>\n  </tbody>\n</table>\n<p>5 rows × 61 columns</p>\n</div>"
     },
     "execution_count": 12,
     "metadata": {},
     "output_type": "execute_result"
    }
   ],
   "source": [
    "pc_df = reduceFeatures(df, \"placement\", 60)\n",
    "pc_df.head()"
   ],
   "metadata": {
    "collapsed": false,
    "pycharm": {
     "name": "#%%\n"
    }
   }
  },
  {
   "cell_type": "code",
   "execution_count": null,
   "outputs": [],
   "source": [
    "#TODO: Kmeans on pc_df"
   ],
   "metadata": {
    "collapsed": false,
    "pycharm": {
     "name": "#%%\n"
    }
   }
  }
 ],
 "metadata": {
  "kernelspec": {
   "display_name": "Python 3 (ipykernel)",
   "language": "python",
   "name": "python3"
  },
  "language_info": {
   "codemirror_mode": {
    "name": "ipython",
    "version": 3
   },
   "file_extension": ".py",
   "mimetype": "text/x-python",
   "name": "python",
   "nbconvert_exporter": "python",
   "pygments_lexer": "ipython3",
   "version": "3.8.18"
  }
 },
 "nbformat": 4,
 "nbformat_minor": 5
}