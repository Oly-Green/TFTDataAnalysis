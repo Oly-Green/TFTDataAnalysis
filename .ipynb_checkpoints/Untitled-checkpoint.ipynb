{
 "cells": [
  {
   "cell_type": "code",
   "execution_count": 1,
   "id": "766d0c90-41a9-4921-bf04-3674a5857733",
   "metadata": {},
   "outputs": [],
   "source": [
    "import json"
   ]
  },
  {
   "cell_type": "code",
   "execution_count": 2,
   "id": "e4d8c3f1-1211-4cfc-afca-096211e75fff",
   "metadata": {},
   "outputs": [],
   "source": [
    "d = {\"private\":\"RGAPI-cc7db464-41e3-4a3c-bd9a-af94965e9202\"}"
   ]
  },
  {
   "cell_type": "code",
   "execution_count": 3,
   "id": "efe24d1f-9d6d-452b-ad20-84518d614994",
   "metadata": {},
   "outputs": [],
   "source": [
    "with open('keys.json', 'w') as f:\n",
    "    json.dump(d, f)"
   ]
  }
 ],
 "metadata": {
  "kernelspec": {
   "display_name": "Python 3 (ipykernel)",
   "language": "python",
   "name": "python3"
  },
  "language_info": {
   "codemirror_mode": {
    "name": "ipython",
    "version": 3
   },
   "file_extension": ".py",
   "mimetype": "text/x-python",
   "name": "python",
   "nbconvert_exporter": "python",
   "pygments_lexer": "ipython3",
   "version": "3.8.18"
  }
 },
 "nbformat": 4,
 "nbformat_minor": 5
}
